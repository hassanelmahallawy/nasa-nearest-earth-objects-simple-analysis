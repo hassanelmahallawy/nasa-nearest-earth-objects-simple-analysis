{
 "cells": [
  {
   "cell_type": "markdown",
   "metadata": {},
   "source": [
    "Import essential libraries for data handling, visualization, and machine learning:\n"
   ]
  },
  {
   "cell_type": "code",
   "execution_count": 72,
   "metadata": {},
   "outputs": [],
   "source": [
    "import pandas as pd\n",
    "import numpy as np\n",
    "import matplotlib.pyplot as plt\n",
    "import seaborn as sns\n",
    "from sklearn.feature_selection import VarianceThreshold\n",
    "from sklearn.model_selection import train_test_split\n",
    "from sklearn.preprocessing import StandardScaler\n",
    "from sklearn.metrics import accuracy_score, classification_report, roc_auc_score\n",
    "from sklearn.linear_model import LogisticRegression\n",
    "from sklearn.tree import DecisionTreeClassifier"
   ]
  },
  {
   "cell_type": "code",
   "execution_count": 3,
   "metadata": {},
   "outputs": [],
   "source": [
    "df = pd.read_csv('nearest-earth-objects(1910-2024).csv')\n"
   ]
  },
  {
   "cell_type": "code",
   "execution_count": 4,
   "metadata": {},
   "outputs": [
    {
     "data": {
      "text/plain": [
       "(338199, 9)"
      ]
     },
     "execution_count": 4,
     "metadata": {},
     "output_type": "execute_result"
    }
   ],
   "source": [
    "df.shape"
   ]
  },
  {
   "cell_type": "code",
   "execution_count": 5,
   "metadata": {},
   "outputs": [
    {
     "data": {
      "text/html": [
       "<div>\n",
       "<style scoped>\n",
       "    .dataframe tbody tr th:only-of-type {\n",
       "        vertical-align: middle;\n",
       "    }\n",
       "\n",
       "    .dataframe tbody tr th {\n",
       "        vertical-align: top;\n",
       "    }\n",
       "\n",
       "    .dataframe thead th {\n",
       "        text-align: right;\n",
       "    }\n",
       "</style>\n",
       "<table border=\"1\" class=\"dataframe\">\n",
       "  <thead>\n",
       "    <tr style=\"text-align: right;\">\n",
       "      <th></th>\n",
       "      <th>neo_id</th>\n",
       "      <th>name</th>\n",
       "      <th>absolute_magnitude</th>\n",
       "      <th>estimated_diameter_min</th>\n",
       "      <th>estimated_diameter_max</th>\n",
       "      <th>orbiting_body</th>\n",
       "      <th>relative_velocity</th>\n",
       "      <th>miss_distance</th>\n",
       "      <th>is_hazardous</th>\n",
       "    </tr>\n",
       "  </thead>\n",
       "  <tbody>\n",
       "    <tr>\n",
       "      <th>0</th>\n",
       "      <td>2162117</td>\n",
       "      <td>162117 (1998 SD15)</td>\n",
       "      <td>19.14</td>\n",
       "      <td>0.394962</td>\n",
       "      <td>0.883161</td>\n",
       "      <td>Earth</td>\n",
       "      <td>71745.401048</td>\n",
       "      <td>5.814362e+07</td>\n",
       "      <td>False</td>\n",
       "    </tr>\n",
       "    <tr>\n",
       "      <th>1</th>\n",
       "      <td>2349507</td>\n",
       "      <td>349507 (2008 QY)</td>\n",
       "      <td>18.50</td>\n",
       "      <td>0.530341</td>\n",
       "      <td>1.185878</td>\n",
       "      <td>Earth</td>\n",
       "      <td>109949.757148</td>\n",
       "      <td>5.580105e+07</td>\n",
       "      <td>True</td>\n",
       "    </tr>\n",
       "    <tr>\n",
       "      <th>2</th>\n",
       "      <td>2455415</td>\n",
       "      <td>455415 (2003 GA)</td>\n",
       "      <td>21.45</td>\n",
       "      <td>0.136319</td>\n",
       "      <td>0.304818</td>\n",
       "      <td>Earth</td>\n",
       "      <td>24865.506798</td>\n",
       "      <td>6.720689e+07</td>\n",
       "      <td>False</td>\n",
       "    </tr>\n",
       "    <tr>\n",
       "      <th>3</th>\n",
       "      <td>3132126</td>\n",
       "      <td>(2002 PB)</td>\n",
       "      <td>20.63</td>\n",
       "      <td>0.198863</td>\n",
       "      <td>0.444672</td>\n",
       "      <td>Earth</td>\n",
       "      <td>78890.076805</td>\n",
       "      <td>3.039644e+07</td>\n",
       "      <td>False</td>\n",
       "    </tr>\n",
       "    <tr>\n",
       "      <th>4</th>\n",
       "      <td>3557844</td>\n",
       "      <td>(2011 DW)</td>\n",
       "      <td>22.70</td>\n",
       "      <td>0.076658</td>\n",
       "      <td>0.171412</td>\n",
       "      <td>Earth</td>\n",
       "      <td>56036.519484</td>\n",
       "      <td>6.311863e+07</td>\n",
       "      <td>False</td>\n",
       "    </tr>\n",
       "  </tbody>\n",
       "</table>\n",
       "</div>"
      ],
      "text/plain": [
       "    neo_id                name  absolute_magnitude  estimated_diameter_min  \\\n",
       "0  2162117  162117 (1998 SD15)               19.14                0.394962   \n",
       "1  2349507    349507 (2008 QY)               18.50                0.530341   \n",
       "2  2455415    455415 (2003 GA)               21.45                0.136319   \n",
       "3  3132126           (2002 PB)               20.63                0.198863   \n",
       "4  3557844           (2011 DW)               22.70                0.076658   \n",
       "\n",
       "   estimated_diameter_max orbiting_body  relative_velocity  miss_distance  \\\n",
       "0                0.883161         Earth       71745.401048   5.814362e+07   \n",
       "1                1.185878         Earth      109949.757148   5.580105e+07   \n",
       "2                0.304818         Earth       24865.506798   6.720689e+07   \n",
       "3                0.444672         Earth       78890.076805   3.039644e+07   \n",
       "4                0.171412         Earth       56036.519484   6.311863e+07   \n",
       "\n",
       "   is_hazardous  \n",
       "0         False  \n",
       "1          True  \n",
       "2         False  \n",
       "3         False  \n",
       "4         False  "
      ]
     },
     "execution_count": 5,
     "metadata": {},
     "output_type": "execute_result"
    }
   ],
   "source": [
    "df.head()"
   ]
  },
  {
   "cell_type": "markdown",
   "metadata": {},
   "source": [
    "### Checking Missing Values\n",
    "\n",
    "The code checks for missing values in the dataset:\n",
    "\n",
    "- `absolute_magnitude`, `estimated_diameter_min`, `estimated_diameter_max` have 28 missing values each.\n"
   ]
  },
  {
   "cell_type": "code",
   "execution_count": 6,
   "metadata": {},
   "outputs": [
    {
     "data": {
      "text/plain": [
       "neo_id                     0\n",
       "name                       0\n",
       "absolute_magnitude        28\n",
       "estimated_diameter_min    28\n",
       "estimated_diameter_max    28\n",
       "orbiting_body              0\n",
       "relative_velocity          0\n",
       "miss_distance              0\n",
       "is_hazardous               0\n",
       "dtype: int64"
      ]
     },
     "execution_count": 6,
     "metadata": {},
     "output_type": "execute_result"
    }
   ],
   "source": [
    "df.isnull().sum()\n"
   ]
  },
  {
   "cell_type": "markdown",
   "metadata": {},
   "source": [
    "### Filtering and Counting Hazardous Asteroids\n",
    "\n",
    "1. **Filter Hazardous Asteroids**: The code creates a DataFrame `hazardous_asteroids` with only the rows where `is_hazardous` is `True`.\n",
    "2. **Count Hazardous Asteroids**: It calculates the total number of hazardous asteroids by summing the `is_hazardous` column.\n",
    "3. **Check Missing Values**: It checks for missing values in the `hazardous_asteroids` DataFrame.\n"
   ]
  },
  {
   "cell_type": "code",
   "execution_count": 10,
   "metadata": {},
   "outputs": [],
   "source": [
    "hazardous_asteroids = df[df['is_hazardous'] == True]"
   ]
  },
  {
   "cell_type": "code",
   "execution_count": 11,
   "metadata": {},
   "outputs": [
    {
     "data": {
      "text/plain": [
       "43162"
      ]
     },
     "execution_count": 11,
     "metadata": {},
     "output_type": "execute_result"
    }
   ],
   "source": [
    "hazardous_count = df['is_hazardous'].sum()\n",
    "hazardous_count"
   ]
  },
  {
   "cell_type": "code",
   "execution_count": 12,
   "metadata": {},
   "outputs": [
    {
     "data": {
      "text/plain": [
       "neo_id                    0\n",
       "name                      0\n",
       "absolute_magnitude        0\n",
       "estimated_diameter_min    0\n",
       "estimated_diameter_max    0\n",
       "orbiting_body             0\n",
       "relative_velocity         0\n",
       "miss_distance             0\n",
       "is_hazardous              0\n",
       "dtype: int64"
      ]
     },
     "execution_count": 12,
     "metadata": {},
     "output_type": "execute_result"
    }
   ],
   "source": [
    "hazardous_asteroids.isnull().sum()\n"
   ]
  },
  {
   "cell_type": "markdown",
   "metadata": {},
   "source": [
    "### Pie Chart of Hazardous Asteroids\n",
    "\n",
    "A pie chart visualizes the distribution of hazardous vs. non-hazardous asteroids:\n",
    "- **87.2%** are non-hazardous (`False`).\n",
    "- **12.8%** are hazardous (`True`).\n"
   ]
  },
  {
   "cell_type": "code",
   "execution_count": 6,
   "metadata": {},
   "outputs": [
    {
     "data": {
      "image/png": "[encoded data removed]",
      "text/plain": [
       "<Figure size 640x480 with 1 Axes>"
      ]
     },
     "metadata": {},
     "output_type": "display_data"
    }
   ],
   "source": [
    "df['is_hazardous'].value_counts().plot.pie(autopct='%1.1f%%')\n",
    "plt.show()"
   ]
  },
  {
   "cell_type": "markdown",
   "metadata": {},
   "source": [
    "### Handling Missing Values\n",
    "\n",
    "Fills missing values in specific columns with the mean of each column:\n",
    "- `absolute_magnitude`\n",
    "- `estimated_d\n"
   ]
  },
  {
   "cell_type": "code",
   "execution_count": null,
   "metadata": {},
   "outputs": [],
   "source": [
    "df['absolute_magnitude'].fillna(df['absolute_magnitude'].mean(), inplace=True)\n",
    "df['estimated_diameter_min'].fillna(df['estimated_diameter_min'].mean(), inplace=True)\n",
    "df['estimated_diameter_max'].fillna(df['estimated_diameter_max'].mean(), inplace=True)"
   ]
  },
  {
   "cell_type": "code",
   "execution_count": 14,
   "metadata": {},
   "outputs": [
    {
     "data": {
      "text/plain": [
       "neo_id                    0\n",
       "name                      0\n",
       "absolute_magnitude        0\n",
       "estimated_diameter_min    0\n",
       "estimated_diameter_max    0\n",
       "orbiting_body             0\n",
       "relative_velocity         0\n",
       "miss_distance             0\n",
       "is_hazardous              0\n",
       "dtype: int64"
      ]
     },
     "execution_count": 14,
     "metadata": {},
     "output_type": "execute_result"
    }
   ],
   "source": [
    "df.isnull().sum()"
   ]
  },
  {
   "cell_type": "markdown",
   "metadata": {},
   "source": [
    "### Check for Duplicates"
   ]
  },
  {
   "cell_type": "code",
   "execution_count": 82,
   "metadata": {},
   "outputs": [
    {
     "data": {
      "text/plain": [
       "0"
      ]
     },
     "execution_count": 82,
     "metadata": {},
     "output_type": "execute_result"
    }
   ],
   "source": [
    "df.duplicated().sum()"
   ]
  },
  {
   "cell_type": "markdown",
   "metadata": {},
   "source": [
    "### Numerical Summary\n"
   ]
  },
  {
   "cell_type": "code",
   "execution_count": 9,
   "metadata": {},
   "outputs": [
    {
     "data": {
      "text/html": [
       "<style type=\"text/css\">\n",
       "#T_14f0a_row0_col0, #T_14f0a_row0_col2, #T_14f0a_row0_col3, #T_14f0a_row4_col0, #T_14f0a_row5_col0, #T_14f0a_row5_col1, #T_14f0a_row5_col4, #T_14f0a_row5_col5, #T_14f0a_row5_col6, #T_14f0a_row5_col7 {\n",
       "  background-color: #023858;\n",
       "  color: #f1f1f1;\n",
       "}\n",
       "#T_14f0a_row0_col1 {\n",
       "  background-color: #93b5d6;\n",
       "  color: #000000;\n",
       "}\n",
       "#T_14f0a_row0_col4 {\n",
       "  background-color: #eae6f1;\n",
       "  color: #000000;\n",
       "}\n",
       "#T_14f0a_row0_col5 {\n",
       "  background-color: #f2ecf5;\n",
       "  color: #000000;\n",
       "}\n",
       "#T_14f0a_row0_col6 {\n",
       "  background-color: #034f7d;\n",
       "  color: #f1f1f1;\n",
       "}\n",
       "#T_14f0a_row0_col7 {\n",
       "  background-color: #0d75b3;\n",
       "  color: #f1f1f1;\n",
       "}\n",
       "#T_14f0a_row1_col0, #T_14f0a_row1_col1, #T_14f0a_row1_col2, #T_14f0a_row1_col3, #T_14f0a_row1_col4, #T_14f0a_row1_col5, #T_14f0a_row1_col6, #T_14f0a_row1_col7, #T_14f0a_row2_col0, #T_14f0a_row2_col1, #T_14f0a_row2_col2, #T_14f0a_row2_col3, #T_14f0a_row2_col4, #T_14f0a_row2_col5, #T_14f0a_row2_col6, #T_14f0a_row2_col7, #T_14f0a_row3_col0, #T_14f0a_row3_col1, #T_14f0a_row3_col2, #T_14f0a_row3_col3, #T_14f0a_row3_col4, #T_14f0a_row3_col5, #T_14f0a_row3_col6, #T_14f0a_row3_col7, #T_14f0a_row4_col1, #T_14f0a_row4_col2, #T_14f0a_row4_col3, #T_14f0a_row4_col4, #T_14f0a_row4_col5, #T_14f0a_row4_col6, #T_14f0a_row4_col7, #T_14f0a_row5_col3 {\n",
       "  background-color: #fff7fb;\n",
       "  color: #000000;\n",
       "}\n",
       "#T_14f0a_row5_col2 {\n",
       "  background-color: #03517e;\n",
       "  color: #f1f1f1;\n",
       "}\n",
       "</style>\n",
       "<table id=\"T_14f0a\">\n",
       "  <thead>\n",
       "    <tr>\n",
       "      <th class=\"blank level0\" >&nbsp;</th>\n",
       "      <th id=\"T_14f0a_level0_col0\" class=\"col_heading level0 col0\" >count</th>\n",
       "      <th id=\"T_14f0a_level0_col1\" class=\"col_heading level0 col1\" >mean</th>\n",
       "      <th id=\"T_14f0a_level0_col2\" class=\"col_heading level0 col2\" >std</th>\n",
       "      <th id=\"T_14f0a_level0_col3\" class=\"col_heading level0 col3\" >min</th>\n",
       "      <th id=\"T_14f0a_level0_col4\" class=\"col_heading level0 col4\" >25%</th>\n",
       "      <th id=\"T_14f0a_level0_col5\" class=\"col_heading level0 col5\" >50%</th>\n",
       "      <th id=\"T_14f0a_level0_col6\" class=\"col_heading level0 col6\" >75%</th>\n",
       "      <th id=\"T_14f0a_level0_col7\" class=\"col_heading level0 col7\" >max</th>\n",
       "    </tr>\n",
       "  </thead>\n",
       "  <tbody>\n",
       "    <tr>\n",
       "      <th id=\"T_14f0a_level0_row0\" class=\"row_heading level0 row0\" >neo_id</th>\n",
       "      <td id=\"T_14f0a_row0_col0\" class=\"data row0 col0\" >338199.000000</td>\n",
       "      <td id=\"T_14f0a_row0_col1\" class=\"data row0 col1\" >17599388.682019</td>\n",
       "      <td id=\"T_14f0a_row0_col2\" class=\"data row0 col2\" >22872246.428932</td>\n",
       "      <td id=\"T_14f0a_row0_col3\" class=\"data row0 col3\" >2000433.000000</td>\n",
       "      <td id=\"T_14f0a_row0_col4\" class=\"data row0 col4\" >3373980.000000</td>\n",
       "      <td id=\"T_14f0a_row0_col5\" class=\"data row0 col5\" >3742127.000000</td>\n",
       "      <td id=\"T_14f0a_row0_col6\" class=\"data row0 col6\" >54053736.500000</td>\n",
       "      <td id=\"T_14f0a_row0_col7\" class=\"data row0 col7\" >54462807.000000</td>\n",
       "    </tr>\n",
       "    <tr>\n",
       "      <th id=\"T_14f0a_level0_row1\" class=\"row_heading level0 row1\" >absolute_magnitude</th>\n",
       "      <td id=\"T_14f0a_row1_col0\" class=\"data row1 col0\" >338171.000000</td>\n",
       "      <td id=\"T_14f0a_row1_col1\" class=\"data row1 col1\" >22.932525</td>\n",
       "      <td id=\"T_14f0a_row1_col2\" class=\"data row1 col2\" >2.911216</td>\n",
       "      <td id=\"T_14f0a_row1_col3\" class=\"data row1 col3\" >9.250000</td>\n",
       "      <td id=\"T_14f0a_row1_col4\" class=\"data row1 col4\" >20.740000</td>\n",
       "      <td id=\"T_14f0a_row1_col5\" class=\"data row1 col5\" >22.800000</td>\n",
       "      <td id=\"T_14f0a_row1_col6\" class=\"data row1 col6\" >25.100000</td>\n",
       "      <td id=\"T_14f0a_row1_col7\" class=\"data row1 col7\" >33.580000</td>\n",
       "    </tr>\n",
       "    <tr>\n",
       "      <th id=\"T_14f0a_level0_row2\" class=\"row_heading level0 row2\" >estimated_diameter_min</th>\n",
       "      <td id=\"T_14f0a_row2_col0\" class=\"data row2 col0\" >338171.000000</td>\n",
       "      <td id=\"T_14f0a_row2_col1\" class=\"data row2 col1\" >0.157812</td>\n",
       "      <td id=\"T_14f0a_row2_col2\" class=\"data row2 col2\" >0.313885</td>\n",
       "      <td id=\"T_14f0a_row2_col3\" class=\"data row2 col3\" >0.000511</td>\n",
       "      <td id=\"T_14f0a_row2_col4\" class=\"data row2 col4\" >0.025384</td>\n",
       "      <td id=\"T_14f0a_row2_col5\" class=\"data row2 col5\" >0.073207</td>\n",
       "      <td id=\"T_14f0a_row2_col6\" class=\"data row2 col6\" >0.189041</td>\n",
       "      <td id=\"T_14f0a_row2_col7\" class=\"data row2 col7\" >37.545248</td>\n",
       "    </tr>\n",
       "    <tr>\n",
       "      <th id=\"T_14f0a_level0_row3\" class=\"row_heading level0 row3\" >estimated_diameter_max</th>\n",
       "      <td id=\"T_14f0a_row3_col0\" class=\"data row3 col0\" >338171.000000</td>\n",
       "      <td id=\"T_14f0a_row3_col1\" class=\"data row3 col1\" >0.352878</td>\n",
       "      <td id=\"T_14f0a_row3_col2\" class=\"data row3 col2\" >0.701869</td>\n",
       "      <td id=\"T_14f0a_row3_col3\" class=\"data row3 col3\" >0.001143</td>\n",
       "      <td id=\"T_14f0a_row3_col4\" class=\"data row3 col4\" >0.056760</td>\n",
       "      <td id=\"T_14f0a_row3_col5\" class=\"data row3 col5\" >0.163697</td>\n",
       "      <td id=\"T_14f0a_row3_col6\" class=\"data row3 col6\" >0.422708</td>\n",
       "      <td id=\"T_14f0a_row3_col7\" class=\"data row3 col7\" >83.953727</td>\n",
       "    </tr>\n",
       "    <tr>\n",
       "      <th id=\"T_14f0a_level0_row4\" class=\"row_heading level0 row4\" >relative_velocity</th>\n",
       "      <td id=\"T_14f0a_row4_col0\" class=\"data row4 col0\" >338199.000000</td>\n",
       "      <td id=\"T_14f0a_row4_col1\" class=\"data row4 col1\" >51060.662908</td>\n",
       "      <td id=\"T_14f0a_row4_col2\" class=\"data row4 col2\" >26399.238435</td>\n",
       "      <td id=\"T_14f0a_row4_col3\" class=\"data row4 col3\" >203.346433</td>\n",
       "      <td id=\"T_14f0a_row4_col4\" class=\"data row4 col4\" >30712.031471</td>\n",
       "      <td id=\"T_14f0a_row4_col5\" class=\"data row4 col5\" >47560.465474</td>\n",
       "      <td id=\"T_14f0a_row4_col6\" class=\"data row4 col6\" >66673.820614</td>\n",
       "      <td id=\"T_14f0a_row4_col7\" class=\"data row4 col7\" >291781.106613</td>\n",
       "    </tr>\n",
       "    <tr>\n",
       "      <th id=\"T_14f0a_level0_row5\" class=\"row_heading level0 row5\" >miss_distance</th>\n",
       "      <td id=\"T_14f0a_row5_col0\" class=\"data row5 col0\" >338199.000000</td>\n",
       "      <td id=\"T_14f0a_row5_col1\" class=\"data row5 col1\" >41535350.932190</td>\n",
       "      <td id=\"T_14f0a_row5_col2\" class=\"data row5 col2\" >20773990.246102</td>\n",
       "      <td id=\"T_14f0a_row5_col3\" class=\"data row5 col3\" >6745.532516</td>\n",
       "      <td id=\"T_14f0a_row5_col4\" class=\"data row5 col4\" >24945397.527133</td>\n",
       "      <td id=\"T_14f0a_row5_col5\" class=\"data row5 col5\" >43326743.828348</td>\n",
       "      <td id=\"T_14f0a_row5_col6\" class=\"data row5 col6\" >59339605.219975</td>\n",
       "      <td id=\"T_14f0a_row5_col7\" class=\"data row5 col7\" >74798651.452197</td>\n",
       "    </tr>\n",
       "  </tbody>\n",
       "</table>\n"
      ],
      "text/plain": [
       "<pandas.io.formats.style.Styler at 0x2c25012da30>"
      ]
     },
     "execution_count": 9,
     "metadata": {},
     "output_type": "execute_result"
    }
   ],
   "source": [
    "numerical_summary = df.describe().transpose()\n",
    "\n",
    "palette = sns.color_palette()\n",
    "\n",
    "numerical_summary.style.background_gradient()"
   ]
  },
  {
   "cell_type": "markdown",
   "metadata": {},
   "source": [
    "- **Earth**: Present in all rows (338,199 occurrences)"
   ]
  },
  {
   "cell_type": "code",
   "execution_count": 8,
   "metadata": {},
   "outputs": [
    {
     "data": {
      "text/plain": [
       "orbiting_body\n",
       "Earth    338199\n",
       "Name: count, dtype: int64"
      ]
     },
     "execution_count": 8,
     "metadata": {},
     "output_type": "execute_result"
    }
   ],
   "source": [
    "df[\"orbiting_body\"].value_counts()"
   ]
  },
  {
   "cell_type": "markdown",
   "metadata": {},
   "source": [
    "### Feature and Target Variables\n",
    "\n",
    "- **Features (`X`)**: Drops columns `neo_id`, `is_hazardous`, `name`, and `orbiting_body`.\n",
    "- **Target (`y`)**: Uses `is_hazardous` as the target variable.\n"
   ]
  },
  {
   "cell_type": "code",
   "execution_count": 61,
   "metadata": {},
   "outputs": [],
   "source": [
    "X = df.drop(columns=['neo_id','is_hazardous', 'name','orbiting_body'])\n",
    "y = df['is_hazardous']"
   ]
  },
  {
   "cell_type": "markdown",
   "metadata": {},
   "source": [
    "### Standardizing Features\n",
    "\n",
    "- **Initialize and Apply Scaler**: Standardizes feature values.\n",
    "- **Convert to DataFrame**: Optional step to convert scaled data back to a DataFrame.\n"
   ]
  },
  {
   "cell_type": "code",
   "execution_count": 46,
   "metadata": {},
   "outputs": [],
   "source": [
    "scaler = StandardScaler()\n",
    "X_standardized = scaler.fit_transform(X)\n",
    "X_standardized_df = pd.DataFrame(X_standardized, columns=X.columns)\n"
   ]
  },
  {
   "cell_type": "code",
   "execution_count": 53,
   "metadata": {},
   "outputs": [
    {
     "data": {
      "text/html": [
       "<div>\n",
       "<style scoped>\n",
       "    .dataframe tbody tr th:only-of-type {\n",
       "        vertical-align: middle;\n",
       "    }\n",
       "\n",
       "    .dataframe tbody tr th {\n",
       "        vertical-align: top;\n",
       "    }\n",
       "\n",
       "    .dataframe thead th {\n",
       "        text-align: right;\n",
       "    }\n",
       "</style>\n",
       "<table border=\"1\" class=\"dataframe\">\n",
       "  <thead>\n",
       "    <tr style=\"text-align: right;\">\n",
       "      <th></th>\n",
       "      <th>absolute_magnitude</th>\n",
       "      <th>estimated_diameter_min</th>\n",
       "      <th>estimated_diameter_max</th>\n",
       "      <th>relative_velocity</th>\n",
       "      <th>miss_distance</th>\n",
       "    </tr>\n",
       "  </thead>\n",
       "  <tbody>\n",
       "    <tr>\n",
       "      <th>0</th>\n",
       "      <td>-1.302784</td>\n",
       "      <td>0.755562</td>\n",
       "      <td>0.755562</td>\n",
       "      <td>0.783537</td>\n",
       "      <td>0.799476</td>\n",
       "    </tr>\n",
       "    <tr>\n",
       "      <th>1</th>\n",
       "      <td>-1.522633</td>\n",
       "      <td>1.186882</td>\n",
       "      <td>1.186882</td>\n",
       "      <td>2.230715</td>\n",
       "      <td>0.686711</td>\n",
       "    </tr>\n",
       "    <tr>\n",
       "      <th>2</th>\n",
       "      <td>-0.509268</td>\n",
       "      <td>-0.068479</td>\n",
       "      <td>-0.068479</td>\n",
       "      <td>-0.992271</td>\n",
       "      <td>1.235756</td>\n",
       "    </tr>\n",
       "    <tr>\n",
       "      <th>3</th>\n",
       "      <td>-0.790949</td>\n",
       "      <td>0.130790</td>\n",
       "      <td>0.130790</td>\n",
       "      <td>1.054176</td>\n",
       "      <td>-0.536196</td>\n",
       "    </tr>\n",
       "    <tr>\n",
       "      <th>4</th>\n",
       "      <td>-0.079876</td>\n",
       "      <td>-0.258559</td>\n",
       "      <td>-0.258559</td>\n",
       "      <td>0.188485</td>\n",
       "      <td>1.038958</td>\n",
       "    </tr>\n",
       "  </tbody>\n",
       "</table>\n",
       "</div>"
      ],
      "text/plain": [
       "   absolute_magnitude  estimated_diameter_min  estimated_diameter_max  \\\n",
       "0           -1.302784                0.755562                0.755562   \n",
       "1           -1.522633                1.186882                1.186882   \n",
       "2           -0.509268               -0.068479               -0.068479   \n",
       "3           -0.790949                0.130790                0.130790   \n",
       "4           -0.079876               -0.258559               -0.258559   \n",
       "\n",
       "   relative_velocity  miss_distance  \n",
       "0           0.783537       0.799476  \n",
       "1           2.230715       0.686711  \n",
       "2          -0.992271       1.235756  \n",
       "3           1.054176      -0.536196  \n",
       "4           0.188485       1.038958  "
      ]
     },
     "execution_count": 53,
     "metadata": {},
     "output_type": "execute_result"
    }
   ],
   "source": [
    "X_standardized_df.head()"
   ]
  },
  {
   "cell_type": "code",
   "execution_count": 48,
   "metadata": {},
   "outputs": [
    {
     "data": {
      "text/html": [
       "<style type=\"text/css\">\n",
       "#T_bfb20_row0_col0, #T_bfb20_row0_col2, #T_bfb20_row0_col3, #T_bfb20_row1_col0, #T_bfb20_row1_col1, #T_bfb20_row1_col2, #T_bfb20_row1_col5, #T_bfb20_row1_col6, #T_bfb20_row2_col0, #T_bfb20_row2_col2, #T_bfb20_row2_col5, #T_bfb20_row2_col6, #T_bfb20_row3_col0, #T_bfb20_row4_col0, #T_bfb20_row4_col2, #T_bfb20_row4_col4, #T_bfb20_row4_col7 {\n",
       "  background-color: #fff7fb;\n",
       "  color: #000000;\n",
       "}\n",
       "#T_bfb20_row0_col1, #T_bfb20_row1_col3, #T_bfb20_row1_col4, #T_bfb20_row1_col7, #T_bfb20_row2_col3, #T_bfb20_row2_col4, #T_bfb20_row2_col7, #T_bfb20_row3_col2, #T_bfb20_row4_col5, #T_bfb20_row4_col6 {\n",
       "  background-color: #023858;\n",
       "  color: #f1f1f1;\n",
       "}\n",
       "#T_bfb20_row0_col4 {\n",
       "  background-color: #ede8f3;\n",
       "  color: #000000;\n",
       "}\n",
       "#T_bfb20_row0_col5 {\n",
       "  background-color: #348ebf;\n",
       "  color: #f1f1f1;\n",
       "}\n",
       "#T_bfb20_row0_col6 {\n",
       "  background-color: #045e94;\n",
       "  color: #f1f1f1;\n",
       "}\n",
       "#T_bfb20_row0_col7 {\n",
       "  background-color: #fdf5fa;\n",
       "  color: #000000;\n",
       "}\n",
       "#T_bfb20_row2_col1 {\n",
       "  background-color: #fef6fa;\n",
       "  color: #000000;\n",
       "}\n",
       "#T_bfb20_row3_col1 {\n",
       "  background-color: #f1ebf4;\n",
       "  color: #000000;\n",
       "}\n",
       "#T_bfb20_row3_col3 {\n",
       "  background-color: #2786bb;\n",
       "  color: #f1f1f1;\n",
       "}\n",
       "#T_bfb20_row3_col4 {\n",
       "  background-color: #f4eef6;\n",
       "  color: #000000;\n",
       "}\n",
       "#T_bfb20_row3_col5 {\n",
       "  background-color: #a2bcda;\n",
       "  color: #000000;\n",
       "}\n",
       "#T_bfb20_row3_col6 {\n",
       "  background-color: #2c89bd;\n",
       "  color: #f1f1f1;\n",
       "}\n",
       "#T_bfb20_row3_col7 {\n",
       "  background-color: #f5eff6;\n",
       "  color: #000000;\n",
       "}\n",
       "#T_bfb20_row4_col1 {\n",
       "  background-color: #4c99c5;\n",
       "  color: #f1f1f1;\n",
       "}\n",
       "#T_bfb20_row4_col3 {\n",
       "  background-color: #2f8bbe;\n",
       "  color: #f1f1f1;\n",
       "}\n",
       "</style>\n",
       "<table id=\"T_bfb20\">\n",
       "  <thead>\n",
       "    <tr>\n",
       "      <th class=\"blank level0\" >&nbsp;</th>\n",
       "      <th id=\"T_bfb20_level0_col0\" class=\"col_heading level0 col0\" >count</th>\n",
       "      <th id=\"T_bfb20_level0_col1\" class=\"col_heading level0 col1\" >mean</th>\n",
       "      <th id=\"T_bfb20_level0_col2\" class=\"col_heading level0 col2\" >std</th>\n",
       "      <th id=\"T_bfb20_level0_col3\" class=\"col_heading level0 col3\" >min</th>\n",
       "      <th id=\"T_bfb20_level0_col4\" class=\"col_heading level0 col4\" >25%</th>\n",
       "      <th id=\"T_bfb20_level0_col5\" class=\"col_heading level0 col5\" >50%</th>\n",
       "      <th id=\"T_bfb20_level0_col6\" class=\"col_heading level0 col6\" >75%</th>\n",
       "      <th id=\"T_bfb20_level0_col7\" class=\"col_heading level0 col7\" >max</th>\n",
       "    </tr>\n",
       "  </thead>\n",
       "  <tbody>\n",
       "    <tr>\n",
       "      <th id=\"T_bfb20_level0_row0\" class=\"row_heading level0 row0\" >absolute_magnitude</th>\n",
       "      <td id=\"T_bfb20_row0_col0\" class=\"data row0 col0\" >338199.000000</td>\n",
       "      <td id=\"T_bfb20_row0_col1\" class=\"data row0 col1\" >0.000000</td>\n",
       "      <td id=\"T_bfb20_row0_col2\" class=\"data row0 col2\" >1.000001</td>\n",
       "      <td id=\"T_bfb20_row0_col3\" class=\"data row0 col3\" >-4.700136</td>\n",
       "      <td id=\"T_bfb20_row0_col4\" class=\"data row0 col4\" >-0.753162</td>\n",
       "      <td id=\"T_bfb20_row0_col5\" class=\"data row0 col5\" >-0.045524</td>\n",
       "      <td id=\"T_bfb20_row0_col6\" class=\"data row0 col6\" >0.744557</td>\n",
       "      <td id=\"T_bfb20_row0_col7\" class=\"data row0 col7\" >3.657554</td>\n",
       "    </tr>\n",
       "    <tr>\n",
       "      <th id=\"T_bfb20_level0_row1\" class=\"row_heading level0 row1\" >estimated_diameter_min</th>\n",
       "      <td id=\"T_bfb20_row1_col0\" class=\"data row1 col0\" >338199.000000</td>\n",
       "      <td id=\"T_bfb20_row1_col1\" class=\"data row1 col1\" >0.000000</td>\n",
       "      <td id=\"T_bfb20_row1_col2\" class=\"data row1 col2\" >1.000001</td>\n",
       "      <td id=\"T_bfb20_row1_col3\" class=\"data row1 col3\" >-0.501163</td>\n",
       "      <td id=\"T_bfb20_row1_col4\" class=\"data row1 col4\" >-0.421919</td>\n",
       "      <td id=\"T_bfb20_row1_col5\" class=\"data row1 col5\" >-0.269552</td>\n",
       "      <td id=\"T_bfb20_row1_col6\" class=\"data row1 col6\" >0.099494</td>\n",
       "      <td id=\"T_bfb20_row1_col7\" class=\"data row1 col7\" >119.116946</td>\n",
       "    </tr>\n",
       "    <tr>\n",
       "      <th id=\"T_bfb20_level0_row2\" class=\"row_heading level0 row2\" >estimated_diameter_max</th>\n",
       "      <td id=\"T_bfb20_row2_col0\" class=\"data row2 col0\" >338199.000000</td>\n",
       "      <td id=\"T_bfb20_row2_col1\" class=\"data row2 col1\" >0.000000</td>\n",
       "      <td id=\"T_bfb20_row2_col2\" class=\"data row2 col2\" >1.000001</td>\n",
       "      <td id=\"T_bfb20_row2_col3\" class=\"data row2 col3\" >-0.501163</td>\n",
       "      <td id=\"T_bfb20_row2_col4\" class=\"data row2 col4\" >-0.421919</td>\n",
       "      <td id=\"T_bfb20_row2_col5\" class=\"data row2 col5\" >-0.269552</td>\n",
       "      <td id=\"T_bfb20_row2_col6\" class=\"data row2 col6\" >0.099494</td>\n",
       "      <td id=\"T_bfb20_row2_col7\" class=\"data row2 col7\" >119.116946</td>\n",
       "    </tr>\n",
       "    <tr>\n",
       "      <th id=\"T_bfb20_level0_row3\" class=\"row_heading level0 row3\" >relative_velocity</th>\n",
       "      <td id=\"T_bfb20_row3_col0\" class=\"data row3 col0\" >338199.000000</td>\n",
       "      <td id=\"T_bfb20_row3_col1\" class=\"data row3 col1\" >0.000000</td>\n",
       "      <td id=\"T_bfb20_row3_col2\" class=\"data row3 col2\" >1.000001</td>\n",
       "      <td id=\"T_bfb20_row3_col3\" class=\"data row3 col3\" >-1.926472</td>\n",
       "      <td id=\"T_bfb20_row3_col4\" class=\"data row3 col4\" >-0.770805</td>\n",
       "      <td id=\"T_bfb20_row3_col5\" class=\"data row3 col5\" >-0.132587</td>\n",
       "      <td id=\"T_bfb20_row3_col6\" class=\"data row3 col6\" >0.591425</td>\n",
       "      <td id=\"T_bfb20_row3_col7\" class=\"data row3 col7\" >9.118475</td>\n",
       "    </tr>\n",
       "    <tr>\n",
       "      <th id=\"T_bfb20_level0_row4\" class=\"row_heading level0 row4\" >miss_distance</th>\n",
       "      <td id=\"T_bfb20_row4_col0\" class=\"data row4 col0\" >338199.000000</td>\n",
       "      <td id=\"T_bfb20_row4_col1\" class=\"data row4 col1\" >0.000000</td>\n",
       "      <td id=\"T_bfb20_row4_col2\" class=\"data row4 col2\" >1.000001</td>\n",
       "      <td id=\"T_bfb20_row4_col3\" class=\"data row4 col3\" >-1.999070</td>\n",
       "      <td id=\"T_bfb20_row4_col4\" class=\"data row4 col4\" >-0.798594</td>\n",
       "      <td id=\"T_bfb20_row4_col5\" class=\"data row4 col5\" >0.086233</td>\n",
       "      <td id=\"T_bfb20_row4_col6\" class=\"data row4 col6\" >0.857047</td>\n",
       "      <td id=\"T_bfb20_row4_col7\" class=\"data row4 col7\" >1.601202</td>\n",
       "    </tr>\n",
       "  </tbody>\n",
       "</table>\n"
      ],
      "text/plain": [
       "<pandas.io.formats.style.Styler at 0x2c25e117e90>"
      ]
     },
     "execution_count": 48,
     "metadata": {},
     "output_type": "execute_result"
    }
   ],
   "source": [
    "numerical_summary = X_standardized_df.describe().transpose()\n",
    "\n",
    "palette = sns.color_palette()\n",
    "\n",
    "numerical_summary.style.background_gradient()"
   ]
  },
  {
   "cell_type": "markdown",
   "metadata": {},
   "source": [
    "### Distribution Plots\n",
    "\n",
    "- `absolute_magnitude`\n",
    "- `estimated_diameter_min`\n",
    "- `estimated_diameter_max`\n",
    "- `relative_velocity`\n",
    "- `miss_distance`\n"
   ]
  },
  {
   "cell_type": "code",
   "execution_count": 24,
   "metadata": {},
   "outputs": [
    {
     "data": {
      "text/plain": [
       "<seaborn.axisgrid.FacetGrid at 0x27a67e93170>"
      ]
     },
     "execution_count": 24,
     "metadata": {},
     "output_type": "execute_result"
    },
    {
     "data": {
      "image/png": "[encoded data removed]",
      "text/plain": [
       "<Figure size 500x500 with 1 Axes>"
      ]
     },
     "metadata": {},
     "output_type": "display_data"
    }
   ],
   "source": [
    "sns.displot(df['absolute_magnitude'],kde=True)"
   ]
  },
  {
   "cell_type": "code",
   "execution_count": 22,
   "metadata": {},
   "outputs": [
    {
     "data": {
      "text/plain": [
       "<seaborn.axisgrid.FacetGrid at 0x27a3b3a71d0>"
      ]
     },
     "execution_count": 22,
     "metadata": {},
     "output_type": "execute_result"
    },
    {
     "data": {
      "image/png": "[encoded data removed]",
      "text/plain": [
       "<Figure size 500x500 with 1 Axes>"
      ]
     },
     "metadata": {},
     "output_type": "display_data"
    }
   ],
   "source": [
    "sns.displot(df['estimated_diameter_min'],kde=True)"
   ]
  },
  {
   "cell_type": "code",
   "execution_count": 23,
   "metadata": {},
   "outputs": [
    {
     "data": {
      "text/plain": [
       "<seaborn.axisgrid.FacetGrid at 0x27a3f4d46b0>"
      ]
     },
     "execution_count": 23,
     "metadata": {},
     "output_type": "execute_result"
    },
    {
     "data": {
      "image/png": "[encoded data removed]",
      "text/plain": [
       "<Figure size 500x500 with 1 Axes>"
      ]
     },
     "metadata": {},
     "output_type": "display_data"
    }
   ],
   "source": [
    "sns.displot(df['estimated_diameter_max'],kde=True)"
   ]
  },
  {
   "cell_type": "code",
   "execution_count": 25,
   "metadata": {},
   "outputs": [
    {
     "data": {
      "text/plain": [
       "<seaborn.axisgrid.FacetGrid at 0x27a65d549e0>"
      ]
     },
     "execution_count": 25,
     "metadata": {},
     "output_type": "execute_result"
    },
    {
     "data": {
      "image/png": "[encoded data removed]",
      "text/plain": [
       "<Figure size 500x500 with 1 Axes>"
      ]
     },
     "metadata": {},
     "output_type": "display_data"
    }
   ],
   "source": [
    "sns.displot(df['relative_velocity'],kde=True)"
   ]
  },
  {
   "cell_type": "code",
   "execution_count": 26,
   "metadata": {},
   "outputs": [
    {
     "data": {
      "text/plain": [
       "<seaborn.axisgrid.FacetGrid at 0x27a3c8d9bb0>"
      ]
     },
     "execution_count": 26,
     "metadata": {},
     "output_type": "execute_result"
    },
    {
     "data": {
      "image/png": "[encoded data removed]",
      "text/plain": [
       "<Figure size 500x500 with 1 Axes>"
      ]
     },
     "metadata": {},
     "output_type": "display_data"
    }
   ],
   "source": [
    "sns.displot(df['miss_distance'],kde=True)"
   ]
  },
  {
   "cell_type": "markdown",
   "metadata": {},
   "source": [
    "### Feature Selection by Variance\n",
    "\n",
    "- **Selected Features**: \n",
    "  - `absolute_magnitude`\n",
    "  - `estimated_diameter_min`\n",
    "  - `estimated_diameter_max`\n",
    "  - `relative_velocity`\n",
    "  - `miss_distance`\n"
   ]
  },
  {
   "cell_type": "code",
   "execution_count": 51,
   "metadata": {},
   "outputs": [
    {
     "name": "stdout",
     "output_type": "stream",
     "text": [
      "Features selected by variance: Index(['absolute_magnitude', 'estimated_diameter_min',\n",
      "       'estimated_diameter_max', 'relative_velocity', 'miss_distance'],\n",
      "      dtype='object')\n"
     ]
    }
   ],
   "source": [
    "selector = VarianceThreshold(threshold=0.1)\n",
    "selected_features_variance = selector.fit_transform(X_standardized_df)\n",
    "\n",
    "# Get the selected feature names based on the variance threshold\n",
    "selected_columns_variance = X_standardized_df.columns[selector.get_support()]\n",
    "print(\"Features selected by variance:\", selected_columns_variance)\n"
   ]
  },
  {
   "cell_type": "markdown",
   "metadata": {},
   "source": [
    "### Encode Target Variable\n",
    "\n",
    "- **`is_hazardous`**: Transforms `True` to `1` and `False` to `0`.\n"
   ]
  },
  {
   "cell_type": "code",
   "execution_count": 63,
   "metadata": {},
   "outputs": [],
   "source": [
    "y = y.map({True: 1, False: 0})"
   ]
  },
  {
   "cell_type": "code",
   "execution_count": 70,
   "metadata": {},
   "outputs": [
    {
     "data": {
      "text/plain": [
       "array([0, 1], dtype=int64)"
      ]
     },
     "execution_count": 70,
     "metadata": {},
     "output_type": "execute_result"
    }
   ],
   "source": [
    "y.unique()"
   ]
  },
  {
   "cell_type": "code",
   "execution_count": 74,
   "metadata": {},
   "outputs": [],
   "source": [
    "X = X_standardized_df"
   ]
  },
  {
   "cell_type": "markdown",
   "metadata": {},
   "source": [
    "### Train-Test Split\n",
    "\n",
    "- **Splits Data**: Divides features (`X`) and target (`y`) into training and test sets."
   ]
  },
  {
   "cell_type": "code",
   "execution_count": 75,
   "metadata": {},
   "outputs": [
    {
     "name": "stdout",
     "output_type": "stream",
     "text": [
      "X_train:\n",
      "         absolute_magnitude  estimated_diameter_min  estimated_diameter_max  \\\n",
      "183838           -0.629498                0.007482                0.007482   \n",
      "269345            0.469746               -0.385895               -0.385895   \n",
      "295431           -0.485222               -0.082256               -0.082256   \n",
      "73173            -0.790949                0.130790                0.130790   \n",
      "217719           -0.354687               -0.149769               -0.149769   \n",
      "...                    ...                     ...                     ...   \n",
      "119879            0.091881               -0.308791               -0.308791   \n",
      "259178            1.878153               -0.485099               -0.485099   \n",
      "131932           -0.746292                0.093973                0.093973   \n",
      "146867            0.246463               -0.345102               -0.345102   \n",
      "121958           -1.065760                0.413013                0.413013   \n",
      "\n",
      "        relative_velocity  miss_distance  \n",
      "183838           0.655720       0.574605  \n",
      "269345           0.608410       1.197206  \n",
      "295431          -0.835531       1.132994  \n",
      "73173           -0.093071      -1.505158  \n",
      "217719          -0.362178       1.025976  \n",
      "...                   ...            ...  \n",
      "119879           0.457229       1.177080  \n",
      "259178          -0.117785       0.361720  \n",
      "131932           0.665773      -0.661232  \n",
      "146867          -1.209696      -0.529537  \n",
      "121958          -0.371332       0.719511  \n",
      "\n",
      "[270559 rows x 5 columns]\n",
      "y_train:\n",
      " 183838    0\n",
      "269345    0\n",
      "295431    1\n",
      "73173     1\n",
      "217719    1\n",
      "         ..\n",
      "119879    0\n",
      "259178    0\n",
      "131932    0\n",
      "146867    0\n",
      "121958    0\n",
      "Name: is_hazardous, Length: 270559, dtype: int64\n"
     ]
    }
   ],
   "source": [
    "X_train, X_test, y_train, y_test = train_test_split(X, y, test_size=0.2, random_state=42)"
   ]
  },
  {
   "cell_type": "markdown",
   "metadata": {},
   "source": [
    "### Model Insights\n",
    "\n",
    "- **Logistic Regression**: Good overall accuracy (87.1%) but has low recall for detecting hazardous asteroids (7%).\n",
    "- **Decision Tree Classifier**: Higher accuracy (88.9%) and better recall for detecting hazardous asteroids (58%), but with a lower ROC-AUC score (0.76) compared to Logistic Regression (0.84).\n"
   ]
  },
  {
   "cell_type": "code",
   "execution_count": 86,
   "metadata": {},
   "outputs": [],
   "source": [
    "# Logistic Regression\n",
    "log_reg = LogisticRegression()\n",
    "log_reg.fit(X_train, y_train)\n",
    "y_pred_log_reg = log_reg.predict(X_test)\n",
    "\n",
    "# Decision Tree\n",
    "dec_tree = DecisionTreeClassifier()\n",
    "dec_tree.fit(X_train, y_train)\n",
    "y_pred_dec_tree = dec_tree.predict(X_test)\n",
    "\n",
    "# Evaluating Logistic Regression\n",
    "accuracy_log_reg = accuracy_score(y_test, y_pred_log_reg)\n",
    "report_log_reg = classification_report(y_test, y_pred_log_reg)\n",
    "roc_auc_log_reg = roc_auc_score(y_test, log_reg.predict_proba(X_test)[:, 1])\n",
    "\n",
    "# Evaluating Decision Tree\n",
    "accuracy_dec_tree = accuracy_score(y_test, y_pred_dec_tree)\n",
    "report_dec_tree = classification_report(y_test, y_pred_dec_tree)\n",
    "roc_auc_dec_tree = roc_auc_score(y_test, dec_tree.predict_proba(X_test)[:, 1])"
   ]
  },
  {
   "cell_type": "code",
   "execution_count": 88,
   "metadata": {},
   "outputs": [
    {
     "name": "stdout",
     "output_type": "stream",
     "text": [
      "Logistic Regression:\n",
      "Accuracy: 0.871732702542874\n",
      "Classification Report:\n",
      "              precision    recall  f1-score   support\n",
      "\n",
      "           0       0.88      0.99      0.93     59011\n",
      "           1       0.48      0.07      0.13      8629\n",
      "\n",
      "    accuracy                           0.87     67640\n",
      "   macro avg       0.68      0.53      0.53     67640\n",
      "weighted avg       0.83      0.87      0.83     67640\n",
      "\n",
      "ROC-AUC Score: 0.8398650841291576\n"
     ]
    }
   ],
   "source": [
    "# Print results for Logistic Regression\n",
    "print(\"Logistic Regression:\")\n",
    "print(f\"Accuracy: {accuracy_log_reg}\")\n",
    "print(f\"Classification Report:\\n{report_log_reg}\")\n",
    "print(f\"ROC-AUC Score: {roc_auc_log_reg}\")\n"
   ]
  },
  {
   "cell_type": "code",
   "execution_count": 87,
   "metadata": {},
   "outputs": [
    {
     "name": "stdout",
     "output_type": "stream",
     "text": [
      "\n",
      "Decision Tree Classifier:\n",
      "Accuracy: 0.8890449438202247\n",
      "Classification Report:\n",
      "              precision    recall  f1-score   support\n",
      "\n",
      "           0       0.94      0.93      0.94     59011\n",
      "           1       0.56      0.58      0.57      8629\n",
      "\n",
      "    accuracy                           0.89     67640\n",
      "   macro avg       0.75      0.76      0.75     67640\n",
      "weighted avg       0.89      0.89      0.89     67640\n",
      "\n",
      "ROC-AUC Score: 0.7562362496811432\n"
     ]
    }
   ],
   "source": [
    "# Print results for Decision Tree\n",
    "print(\"\\nDecision Tree Classifier:\")\n",
    "print(f\"Accuracy: {accuracy_dec_tree}\")\n",
    "print(f\"Classification Report:\\n{report_dec_tree}\")\n",
    "print(f\"ROC-AUC Score: {roc_auc_dec_tree}\")\n"
   ]
  }
 ],
 "metadata": {
  "kernelspec": {
   "display_name": "Python 3",
   "language": "python",
   "name": "python3"
  },
  "language_info": {
   "codemirror_mode": {
    "name": "ipython",
    "version": 3
   },
   "file_extension": ".py",
   "mimetype": "text/x-python",
   "name": "python",
   "nbconvert_exporter": "python",
   "pygments_lexer": "ipython3",
   "version": "3.12.3"
  }
 },
 "nbformat": 4,
 "nbformat_minor": 2
}
